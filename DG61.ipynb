{
 "cells": [
  {
   "cell_type": "code",
   "execution_count": 14,
   "metadata": {},
   "outputs": [
    {
     "name": "stdout",
     "output_type": "stream",
     "text": [
      "-34.50138888888889\n",
      "-60.50058333333333\n",
      "-34.587222222222216\n",
      "-60.4647611111111\n"
     ]
    }
   ],
   "source": [
    "from numpy import pi, cos, sin, arccos, sqrt, log10\n",
    "\n",
    "def grados_a_radianes(g, m, s, sgn):\n",
    "    '''\n",
    "    Recibo grados, minutos y segundos y devuelve los radianes correspondientes\n",
    "    Por convenciónd de la DG 61: el signo significa norte/este (-1) o sur/oeste(1)\n",
    "    '''\n",
    "\n",
    "    #Grados expresados en decimales\n",
    "    gd = (g + (m+s/60)/60)*sgn\n",
    "    rad = gd*pi/180\n",
    "    return rad\n",
    "\n",
    "def decimales_a_sexagesimales(dec):\n",
    "    g = int(dec)\n",
    "    m = int((dec - int(dec))*60)\n",
    "    s = (((dec - int(dec))*60) - m)*60\n",
    "\n",
    "    s = str(g) + \"° \" + str(m) + \"' \" + str(s) + \" ''\"\n",
    "    return s\n",
    "\n",
    "lat_A = grados_a_radianes(34, 30, 5, -1)\n",
    "lon_A = grados_a_radianes(60, 30, 2.1, -1)\n",
    "lat_B = grados_a_radianes(34, 35, 14, -1)\n",
    "lon_B = grados_a_radianes(60, 27, 53.14, -1)\n",
    "\n",
    "print(lat_A*180/pi)\n",
    "print(lon_A*180/pi)\n",
    "print(lat_B*180/pi)\n",
    "print(lon_B*180/pi)"
   ]
  },
  {
   "cell_type": "markdown",
   "metadata": {},
   "source": [
    "### Distancia"
   ]
  },
  {
   "cell_type": "code",
   "execution_count": 15,
   "metadata": {},
   "outputs": [
    {
     "name": "stdout",
     "output_type": "stream",
     "text": [
      "10.092339134866082 km\n"
     ]
    }
   ],
   "source": [
    "def distancia(lat_A, lon_A, lat_B, lon_B):\n",
    "    '''\n",
    "    A partir de las coordenadas (en radianes) de dos puntos de la Tierra, calcula la distancia (en km) según la formula de la DG 61\n",
    "    '''\n",
    "    d = arccos(cos(lat_A)*cos(lat_B)*cos(lon_A-lon_B)+sin(lat_A)*sin(lat_B))\n",
    "    d = d*180/pi #paso el arcoseno en radianes a grados\n",
    "    d = 111.194*d\n",
    "    return d\n",
    "    \n",
    "\n",
    "L = distancia(lat_A, lon_A, lat_B, lon_B)\n",
    "print(str(L) + \" km\")"
   ]
  },
  {
   "cell_type": "markdown",
   "metadata": {},
   "source": [
    "### Acimut"
   ]
  },
  {
   "cell_type": "code",
   "execution_count": 16,
   "metadata": {},
   "outputs": [
    {
     "name": "stdout",
     "output_type": "stream",
     "text": [
      "18.960924987246457\n",
      "18° 57' 39.329954087246506 ''\n",
      "198.98123774614348\n",
      "198° 58' 52.455886116520105 ''\n"
     ]
    }
   ],
   "source": [
    "def acimut_O(lat_A, lon_A, lat_B, lon_B):\n",
    "    '''\n",
    "    Acimut (orientación de la antena) de la estación más occidental\n",
    "    '''\n",
    "    t = cos(lat_B)*sin(lon_B-lon_A)\n",
    "    u = cos(lat_B)*cos(lon_B-lon_A)*sin(lat_A) - cos(lat_A)*sin(lat_B)\n",
    "    \n",
    "    #Argumento del arcocoseno\n",
    "    ac = (cos(lat_B)*cos(lon_B-lon_A)*sin(lat_A) - cos(lat_A)*sin(lat_B))/sqrt(t**2 + u**2)\n",
    "    \n",
    "    #Hago arcocoseno y paso a sexagesimales\n",
    "    ac = (180/pi)*arccos(ac) \n",
    "\n",
    "    return ac\n",
    "\n",
    "\n",
    "def acimut_E(lat_A, lon_A, lat_B, lon_B):\n",
    "    '''\n",
    "    Acimut (orientación de la antena) de la estación más oriental\n",
    "    '''\n",
    "\n",
    "    v = cos(lat_A)*sin(lon_A-lon_B)\n",
    "    u = cos(lat_A)*cos(lon_A-lon_B)*sin(lat_B) - cos(lat_B)*sin(lat_A)\n",
    "\n",
    "    #Argumento del arcocoseno\n",
    "    ac = (cos(lat_B)*sin(lat_A) - cos(lat_A)*cos(lon_A-lon_B)*sin(lat_B))/sqrt(v**2 + u**2)\n",
    "\n",
    "    #Hago arcocoseno, paso a sexagesimales y termino la expresión\n",
    "    ac = 180 + (180/pi)*arccos(ac)\n",
    "\n",
    "    return ac\n",
    "\n",
    "print(acimut_O(lat_A, lon_A, lat_B, lon_B))\n",
    "print(decimales_a_sexagesimales(acimut_O(lat_A, lon_A, lat_B, lon_B)))\n",
    "\n",
    "print(acimut_E(lat_A, lon_A, lat_B, lon_B))\n",
    "print(decimales_a_sexagesimales(acimut_E(lat_A, lon_A, lat_B, lon_B)))"
   ]
  },
  {
   "cell_type": "markdown",
   "metadata": {},
   "source": [
    "### Atenuación espacio libre"
   ]
  },
  {
   "cell_type": "code",
   "execution_count": 17,
   "metadata": {},
   "outputs": [
    {
     "name": "stdout",
     "output_type": "stream",
     "text": [
      "129.7815332218877 dB\n"
     ]
    }
   ],
   "source": [
    "def atenuacion_EL(f, d):\n",
    "    '''\n",
    "    Calcula la atenuación (en dB) de espacio libre en función de la frecuencia [MHz] y la distancia en MHz\n",
    "    '''\n",
    "    at = 32.44 + 20*log10(f) + 20*log10(d)\n",
    "    \n",
    "    return at\n",
    "\n",
    "\n",
    "f = 7296 #[MHz]\n",
    "print(str(atenuacion_EL(f, L)) + \" dB\")"
   ]
  },
  {
   "cell_type": "markdown",
   "metadata": {},
   "source": [
    "### Margen de desvanecimiento"
   ]
  },
  {
   "cell_type": "code",
   "execution_count": 18,
   "metadata": {},
   "outputs": [
    {
     "name": "stdout",
     "output_type": "stream",
     "text": [
      "46.53211583025167 dB\n"
     ]
    }
   ],
   "source": [
    "def barnett_vigants(d, f, A, B, R):\n",
    "    '''\n",
    "    Calcula el margen de desvanecimiento (en dB) necesario para tener la confiabilidad R para un enlace con distancia d [km], frecuencia f [GHz]\n",
    "    y factores A (aspereza terreno) y B (anualización del peor mes)\n",
    "    '''\n",
    "    fm = 30*log10(d) + 10*log10(6*A*B*f) - 10*log10(1-R) - 70\n",
    "    return fm\n",
    "\n",
    "def confiabilidad(d, f, A, B, fm):\n",
    "\n",
    "    R = fm - 30*log10(d) - 10*log10(6*A*B*f) + 70\n",
    "    R = 10**(R/(-10))\n",
    "    R = 1 - R \n",
    "    return R\n",
    "\n",
    "A = 1\n",
    "B = 0.25\n",
    "R = 0.999975\n",
    "\n",
    "\n",
    "\n",
    "print(str(barnett_vigants(L, f, A, B, R)) + \" dB\")\n",
    "\n",
    "# fm = 31.3\n",
    "\n",
    "# print(str(confiabilidad(L, f, A, B, fm)*100) + \"%\")"
   ]
  },
  {
   "cell_type": "markdown",
   "metadata": {},
   "source": []
  }
 ],
 "metadata": {
  "kernelspec": {
   "display_name": "base",
   "language": "python",
   "name": "python3"
  },
  "language_info": {
   "codemirror_mode": {
    "name": "ipython",
    "version": 3
   },
   "file_extension": ".py",
   "mimetype": "text/x-python",
   "name": "python",
   "nbconvert_exporter": "python",
   "pygments_lexer": "ipython3",
   "version": "3.11.5"
  },
  "orig_nbformat": 4
 },
 "nbformat": 4,
 "nbformat_minor": 2
}
